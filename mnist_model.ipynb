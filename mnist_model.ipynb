{
 "cells": [
  {
   "cell_type": "markdown",
   "id": "0bfe603a",
   "metadata": {},
   "source": [
    "# Kaggle Fashion MNIST"
   ]
  },
  {
   "cell_type": "markdown",
   "id": "e7cd5f14",
   "metadata": {},
   "source": [
    "## Либы"
   ]
  },
  {
   "cell_type": "code",
   "execution_count": 2,
   "id": "c4a54fd0",
   "metadata": {},
   "outputs": [],
   "source": [
    "import pandas as pd\n",
    "import numpy as np\n",
    "import torch\n",
    "from torch import nn\n",
    "from torch.utils.data import Dataset, DataLoader, random_split\n",
    "from torchvision import transforms\n",
    "from sklearn.metrics import accuracy_score\n",
    "import matplotlib.pyplot as plt\n",
    "from tqdm import tqdm"
   ]
  },
  {
   "cell_type": "markdown",
   "id": "444eb035",
   "metadata": {},
   "source": [
    "## Данные"
   ]
  },
  {
   "cell_type": "code",
   "execution_count": 4,
   "id": "22456a37",
   "metadata": {},
   "outputs": [],
   "source": [
    "\n",
    "train_df = pd.read_csv(\"dataset/fmnist_train.csv\")"
   ]
  },
  {
   "cell_type": "code",
   "execution_count": 5,
   "id": "cfd79aea",
   "metadata": {},
   "outputs": [
    {
     "name": "stdout",
     "output_type": "stream",
     "text": [
      "424\n"
     ]
    }
   ],
   "source": [
    "print(train_df.isnull().sum().sum())"
   ]
  },
  {
   "cell_type": "markdown",
   "id": "eb8f3f22",
   "metadata": {},
   "source": [
    "Почистим грязные данные"
   ]
  },
  {
   "cell_type": "code",
   "execution_count": 6,
   "id": "9da42520",
   "metadata": {},
   "outputs": [
    {
     "name": "stdout",
     "output_type": "stream",
     "text": [
      "(17040, 786)\n",
      "(17039, 786)\n"
     ]
    }
   ],
   "source": [
    "print(train_df.shape)\n",
    "train_df_cleaned = train_df.dropna()\n",
    "print(train_df_cleaned.shape)"
   ]
  },
  {
   "cell_type": "code",
   "execution_count": 7,
   "id": "5282d833",
   "metadata": {},
   "outputs": [
    {
     "data": {
      "text/plain": [
       "label\n",
       "0    1770\n",
       "7    1761\n",
       "3    1725\n",
       "6    1704\n",
       "1    1700\n",
       "5    1695\n",
       "9    1694\n",
       "2    1677\n",
       "8    1675\n",
       "4    1639\n",
       "Name: count, dtype: int64"
      ]
     },
     "execution_count": 7,
     "metadata": {},
     "output_type": "execute_result"
    }
   ],
   "source": [
    "train_df['label'].value_counts()"
   ]
  },
  {
   "cell_type": "code",
   "execution_count": 8,
   "id": "7d9aaf01",
   "metadata": {},
   "outputs": [
    {
     "data": {
      "text/plain": [
       "label\n",
       "0    1770\n",
       "7    1761\n",
       "3    1725\n",
       "6    1704\n",
       "1    1700\n",
       "9    1694\n",
       "5    1694\n",
       "2    1677\n",
       "8    1675\n",
       "4    1639\n",
       "Name: count, dtype: int64"
      ]
     },
     "execution_count": 8,
     "metadata": {},
     "output_type": "execute_result"
    }
   ],
   "source": [
    "train_df_cleaned['label'].value_counts()"
   ]
  },
  {
   "cell_type": "markdown",
   "id": "6d67dcde",
   "metadata": {},
   "source": [
    "Можем дропнуть `NaN`-ки"
   ]
  },
  {
   "cell_type": "code",
   "execution_count": 9,
   "id": "9e3297f9",
   "metadata": {},
   "outputs": [],
   "source": [
    "del train_df_cleaned\n",
    "train_df = train_df.dropna()"
   ]
  },
  {
   "cell_type": "markdown",
   "id": "647b502d",
   "metadata": {},
   "source": [
    "## Кастомный Dataset под MNIST"
   ]
  },
  {
   "cell_type": "code",
   "execution_count": 10,
   "id": "2052c1d5",
   "metadata": {},
   "outputs": [],
   "source": [
    "class FashionMNISTDataset(Dataset):\n",
    "    def __init__(self, dataframe, train=True):\n",
    "        self.images = dataframe.drop(columns=[\"label\", \"id\"]).values if train else dataframe.drop(columns=[\"id\"]).values\n",
    "        self.images = self.images.reshape(-1, 28, 28).astype(\"float32\") / 255.0\n",
    "        self.images = torch.tensor(self.images).unsqueeze(1)  # (N, 1, 28, 28)\n",
    "        self.labels = torch.tensor(dataframe[\"label\"].values).long() if train else None\n",
    "        self.train = train\n",
    "\n",
    "    def __len__(self):\n",
    "        return len(self.images)\n",
    "\n",
    "    def __getitem__(self, idx):\n",
    "        if self.train:\n",
    "            return self.images[idx], self.labels[idx]\n",
    "        else:\n",
    "            return self.images[idx]"
   ]
  },
  {
   "cell_type": "markdown",
   "id": "7f4ef484",
   "metadata": {},
   "source": [
    "## Код модельки"
   ]
  },
  {
   "cell_type": "code",
   "execution_count": 11,
   "id": "c6c60a3c",
   "metadata": {},
   "outputs": [],
   "source": [
    "class SimpleCNN(nn.Module):\n",
    "    def __init__(self):\n",
    "        super().__init__()\n",
    "        self.network = nn.Sequential(\n",
    "            nn.Conv2d(1, 32, 3, padding=1), nn.ReLU(), nn.MaxPool2d(2),  # 14x14\n",
    "            nn.Conv2d(32, 64, 3, padding=1), nn.ReLU(), nn.MaxPool2d(2),  # 7x7\n",
    "            nn.Flatten(),\n",
    "            nn.Linear(64*7*7, 128), nn.ReLU(),\n",
    "            nn.Linear(128, 10)\n",
    "        )\n",
    "\n",
    "    def forward(self, x):\n",
    "        return self.network(x)"
   ]
  },
  {
   "cell_type": "markdown",
   "id": "17215dfe",
   "metadata": {},
   "source": [
    "## Обучим модельку"
   ]
  },
  {
   "cell_type": "code",
   "execution_count": 12,
   "id": "8cf5354a",
   "metadata": {},
   "outputs": [],
   "source": [
    "train_df['id'] = train_df['Id']\n",
    "del train_df['Id']"
   ]
  },
  {
   "cell_type": "code",
   "execution_count": 13,
   "id": "64752ab4",
   "metadata": {},
   "outputs": [],
   "source": [
    "dataset = FashionMNISTDataset(train_df)\n",
    "train_size = int(0.9 * len(dataset))\n",
    "val_size = len(dataset) - train_size\n",
    "train_data, val_data = random_split(dataset, [train_size, val_size])\n",
    "\n",
    "train_loader = DataLoader(train_data, batch_size=64, shuffle=True)\n",
    "val_loader = DataLoader(val_data, batch_size=64)\n",
    "\n",
    "model = SimpleCNN()\n",
    "criterion = nn.CrossEntropyLoss()\n",
    "optimizer = torch.optim.Adam(model.parameters(), lr=1e-3)"
   ]
  },
  {
   "cell_type": "code",
   "execution_count": 14,
   "id": "00785aef",
   "metadata": {},
   "outputs": [
    {
     "name": "stderr",
     "output_type": "stream",
     "text": [
      " 10%|█         | 1/10 [00:14<02:07, 14.16s/it]"
     ]
    },
    {
     "name": "stdout",
     "output_type": "stream",
     "text": [
      "Epoch 1, val accuracy: 0.8316\n"
     ]
    },
    {
     "name": "stderr",
     "output_type": "stream",
     "text": [
      " 20%|██        | 2/10 [00:29<01:58, 14.80s/it]"
     ]
    },
    {
     "name": "stdout",
     "output_type": "stream",
     "text": [
      "Epoch 2, val accuracy: 0.8498\n"
     ]
    },
    {
     "name": "stderr",
     "output_type": "stream",
     "text": [
      " 30%|███       | 3/10 [00:46<01:49, 15.66s/it]"
     ]
    },
    {
     "name": "stdout",
     "output_type": "stream",
     "text": [
      "Epoch 3, val accuracy: 0.8773\n"
     ]
    },
    {
     "name": "stderr",
     "output_type": "stream",
     "text": [
      " 40%|████      | 4/10 [01:01<01:32, 15.50s/it]"
     ]
    },
    {
     "name": "stdout",
     "output_type": "stream",
     "text": [
      "Epoch 4, val accuracy: 0.8768\n"
     ]
    },
    {
     "name": "stderr",
     "output_type": "stream",
     "text": [
      " 50%|█████     | 5/10 [01:14<01:13, 14.78s/it]"
     ]
    },
    {
     "name": "stdout",
     "output_type": "stream",
     "text": [
      "Epoch 5, val accuracy: 0.8955\n"
     ]
    },
    {
     "name": "stderr",
     "output_type": "stream",
     "text": [
      " 60%|██████    | 6/10 [01:28<00:57, 14.35s/it]"
     ]
    },
    {
     "name": "stdout",
     "output_type": "stream",
     "text": [
      "Epoch 6, val accuracy: 0.8891\n"
     ]
    },
    {
     "name": "stderr",
     "output_type": "stream",
     "text": [
      " 70%|███████   | 7/10 [01:41<00:42, 14.07s/it]"
     ]
    },
    {
     "name": "stdout",
     "output_type": "stream",
     "text": [
      "Epoch 7, val accuracy: 0.8914\n"
     ]
    },
    {
     "name": "stderr",
     "output_type": "stream",
     "text": [
      " 80%|████████  | 8/10 [01:55<00:27, 13.93s/it]"
     ]
    },
    {
     "name": "stdout",
     "output_type": "stream",
     "text": [
      "Epoch 8, val accuracy: 0.8903\n"
     ]
    },
    {
     "name": "stderr",
     "output_type": "stream",
     "text": [
      " 90%|█████████ | 9/10 [02:08<00:13, 13.79s/it]"
     ]
    },
    {
     "name": "stdout",
     "output_type": "stream",
     "text": [
      "Epoch 9, val accuracy: 0.8914\n"
     ]
    },
    {
     "name": "stderr",
     "output_type": "stream",
     "text": [
      "100%|██████████| 10/10 [02:22<00:00, 14.26s/it]"
     ]
    },
    {
     "name": "stdout",
     "output_type": "stream",
     "text": [
      "Epoch 10, val accuracy: 0.8856\n"
     ]
    },
    {
     "name": "stderr",
     "output_type": "stream",
     "text": [
      "\n"
     ]
    }
   ],
   "source": [
    "for epoch in tqdm(range(10), total=10):\n",
    "    model.train()\n",
    "    for x_batch, y_batch in train_loader:\n",
    "        optimizer.zero_grad()\n",
    "        output = model(x_batch)\n",
    "        loss = criterion(output, y_batch)\n",
    "        loss.backward()\n",
    "        optimizer.step()\n",
    "\n",
    "    # Оценка\n",
    "    model.eval()\n",
    "    all_preds, all_labels = [], []\n",
    "    with torch.no_grad():\n",
    "        for x_batch, y_batch in val_loader:\n",
    "            preds = model(x_batch).argmax(dim=1)\n",
    "            all_preds.extend(preds.numpy())\n",
    "            all_labels.extend(y_batch.numpy())\n",
    "    acc = accuracy_score(all_labels, all_preds)\n",
    "    print(f\"Epoch {epoch+1}, val accuracy: {acc:.4f}\")\n"
   ]
  },
  {
   "cell_type": "markdown",
   "id": "432bc78b",
   "metadata": {},
   "source": [
    "## Проверяем предсказания на тестовой выборке"
   ]
  },
  {
   "cell_type": "code",
   "execution_count": 15,
   "id": "9e5723cc",
   "metadata": {},
   "outputs": [],
   "source": [
    "test_df = pd.read_csv('dataset/fmnist_test.csv')\n",
    "\n",
    "test_df['id'] = test_df['Id']\n",
    "del test_df['Id']"
   ]
  },
  {
   "cell_type": "code",
   "execution_count": 16,
   "id": "a7753a95",
   "metadata": {},
   "outputs": [],
   "source": [
    "test_dataset = FashionMNISTDataset(test_df, train=False)\n",
    "test_loader = DataLoader(test_dataset, batch_size=64)"
   ]
  },
  {
   "cell_type": "code",
   "execution_count": 17,
   "id": "e6da20dd",
   "metadata": {},
   "outputs": [],
   "source": [
    "all_preds = []\n",
    "\n",
    "with torch.no_grad():\n",
    "    for batch in test_loader:\n",
    "        preds = model(batch).argmax(dim=1)\n",
    "        all_preds.extend(preds.cpu().numpy())\n",
    "\n",
    "submission = pd.DataFrame({\n",
    "    \"id\": test_df[\"id\"],\n",
    "    \"label\": all_preds\n",
    "})\n",
    "\n",
    "submission.to_csv(\"submission/submission.csv\", index=False)"
   ]
  },
  {
   "cell_type": "markdown",
   "id": "7898d4c7",
   "metadata": {},
   "source": [
    "Отправим результат в Kaggle"
   ]
  }
 ],
 "metadata": {
  "kernelspec": {
   "display_name": ".venv",
   "language": "python",
   "name": "python3"
  },
  "language_info": {
   "codemirror_mode": {
    "name": "ipython",
    "version": 3
   },
   "file_extension": ".py",
   "mimetype": "text/x-python",
   "name": "python",
   "nbconvert_exporter": "python",
   "pygments_lexer": "ipython3",
   "version": "3.12.4"
  }
 },
 "nbformat": 4,
 "nbformat_minor": 5
}
